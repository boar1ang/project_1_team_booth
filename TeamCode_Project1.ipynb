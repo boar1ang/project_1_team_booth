{
 "cells": [
  {
   "cell_type": "code",
   "execution_count": null,
   "metadata": {},
   "outputs": [],
   "source": [
    "%matplotlib notebook\n",
    "import pandas as pd\n",
    "import numpy as np\n",
    "import matplotlib.pyplot as plt\n",
    "%matplotlib inline\n",
    "import requests\n",
    "import json\n",
    "from pprint import pprint\n",
    "import warnings\n",
    "warnings.filterwarnings('ignore')\n",
    "#from config import api_key"
   ]
  },
  {
   "cell_type": "markdown",
   "metadata": {},
   "source": [
    "# Source: World Health Organization Global Health Observatory data repository. \"Adult mortality data by country.\" \n",
    "Last updated 2018-05-07. Retrieved from http://apps.who.int/gho/data/view.main.1360?lang=en¶. Features 17 years' of mortality data from 183 countries."
   ]
  },
  {
   "cell_type": "code",
   "execution_count": null,
   "metadata": {},
   "outputs": [],
   "source": [
    "#Angela's code starts\n",
    "#Read in data files as .csvs\n",
    "mort_data_by_region = pd.read_csv(\"data/adult_mort_by_region.csv\")\n",
    "mort_data_by_country = pd.read_csv(\"data/adult_mort_by_country.csv\")"
   ]
  },
  {
   "cell_type": "code",
   "execution_count": null,
   "metadata": {},
   "outputs": [],
   "source": [
    "#Display cleaned-up dataframe by region\n",
    "mort_data_by_region = mort_data_by_region.rename(columns = {\n",
    "    \"Unnamed: 0\": \"Region\", \"Unnamed: 1\" : \"Year\", \"Adult mortality rate (probability of dying between 15 and 60 years per 1000 population)\" : \"Adult Mortality Rate, Both Sexes\", \"Adult mortality rate (probability of dying between 15 and 60 years per 1000 population).1\" : \"Adult Mortality Rate, Male\", \"Adult mortality rate (probability of dying between 15 and 60 years per 1000 population).2\" : \"Adult Mortality Rate, Female\"\n",
    "})\n",
    "\n",
    "mort_data_by_region"
   ]
  },
  {
   "cell_type": "markdown",
   "metadata": {},
   "source": [
    "### Mortality Data by Region"
   ]
  },
  {
   "cell_type": "code",
   "execution_count": null,
   "metadata": {},
   "outputs": [],
   "source": [
    "mort_data_by_region = mort_data_by_region.drop(0)\n",
    "mort_data_by_region"
   ]
  },
  {
   "cell_type": "code",
   "execution_count": null,
   "metadata": {},
   "outputs": [],
   "source": [
    "#Display cleaned-up dataframe by country\n",
    "mort_data_by_country = mort_data_by_country.rename(columns = {\"Unnamed: 0\" : \"Country\", \"Unnamed: 1\" : \"Year\", \"Adult mortality rate (probability \\\n",
    "of dying between 15 and 60 years per 1000 population)\" : \"Adult Mortality Rate, Both Sexes\", \"Adult mortality rate \\\n",
    "(probability of dying between 15 and 60 years per 1000 population).1\" : \"Adult Mortality Rate, Male\", \"Adult mortality rate \\\n",
    "(probability of dying between 15 and 60 years per 1000 population).2\" : \"Adult Mortality Rate, Female\" \n",
    "    \n",
    "})\n",
    "mort_data_by_country.head()"
   ]
  },
  {
   "cell_type": "markdown",
   "metadata": {},
   "source": [
    "### Mortality Data by COUNTRY"
   ]
  },
  {
   "cell_type": "code",
   "execution_count": null,
   "metadata": {},
   "outputs": [],
   "source": [
    "mort_data_by_country = mort_data_by_country.drop(0)\n",
    "mort_data_by_country"
   ]
  },
  {
   "cell_type": "code",
   "execution_count": null,
   "metadata": {},
   "outputs": [],
   "source": [
    "#Convert rate to numeric\n",
    "mort_data_by_region[\"Adult Mortality Rate, Both Sexes\"] = pd.to_numeric(mort_data_by_region[\"Adult Mortality Rate, Both Sexes\"], errors='coerce')\n",
    "mort_data_by_country[\"Adult Mortality Rate, Both Sexes\"] = pd.to_numeric(mort_data_by_country[\"Adult Mortality Rate, Both Sexes\"], errors= 'coerce')"
   ]
  },
  {
   "cell_type": "code",
   "execution_count": null,
   "metadata": {},
   "outputs": [],
   "source": [
    "plt.scatter(\"Year\", \"Adult Mortality Rate, Both Sexes\", data = mort_data_by_country, marker=\"o\", facecolors=\"lightblue\", edgecolors=\"darkblue\")\n",
    "plt.xlim(0, 17, 1)\n",
    "plt.ylim(45,700)\n",
    "plt.xlabel(\"Year\")\n",
    "plt.ylabel(\"Mortality Rate\")\n",
    "plt.tight_layout()\n",
    "plt.show()"
   ]
  },
  {
   "cell_type": "code",
   "execution_count": null,
   "metadata": {},
   "outputs": [],
   "source": [
    "#Overall (17 year) low\n",
    "low_mort_value = mort_data_by_country[\"Adult Mortality Rate, Both Sexes\"].min()\n",
    "low_mort_value\n",
    "print(f\"The lowest mortality rate recorded over 17 years is {low_mort_value}\")"
   ]
  },
  {
   "cell_type": "code",
   "execution_count": null,
   "metadata": {},
   "outputs": [],
   "source": [
    "#Overall (17 year) High\n",
    "hi_mort_value = mort_data_by_country[\"Adult Mortality Rate, Both Sexes\"].max()\n",
    "hi_mort_value\n",
    "print(f\"The highest mortality rate recorded over 17 years is {hi_mort_value}\")"
   ]
  },
  {
   "cell_type": "code",
   "execution_count": null,
   "metadata": {},
   "outputs": [],
   "source": [
    "low_country = mort_data_by_country.loc[(mort_data_by_country[\"Adult Mortality Rate, Both Sexes\"] == 49)]\n",
    "low_country"
   ]
  },
  {
   "cell_type": "code",
   "execution_count": null,
   "metadata": {},
   "outputs": [],
   "source": [
    "hi_country = mort_data_by_country.loc[(mort_data_by_country[\"Adult Mortality Rate, Both Sexes\"] == 697)]\n",
    "hi_country"
   ]
  },
  {
   "cell_type": "markdown",
   "metadata": {},
   "source": [
    "## Statistical Summaries of Mortality Rate by Year"
   ]
  },
  {
   "cell_type": "code",
   "execution_count": null,
   "metadata": {},
   "outputs": [],
   "source": [
    "data_2016 = mort_data_by_country.loc[(mort_data_by_country[\"Year\"]==\"2016\")]\n",
    "data_2016 = data_2016.rename(columns= {\"Adult Mortality Rate, Both Sexes\": \"2016 Adult Mort. Rate, Both Sexes\"})\n",
    "round(data_2016.describe(), 2)         "
   ]
  },
  {
   "cell_type": "code",
   "execution_count": null,
   "metadata": {},
   "outputs": [],
   "source": [
    "data_2014 = mort_data_by_country.loc[(mort_data_by_country[\"Year\"]==\"2014\")]\n",
    "data_2014 = data_2014.rename(columns= {\"Adult Mortality Rate, Both Sexes\": \"2014 Adult Mort. Rate, Both Sexes\"})\n",
    "round(data_2014.describe(), 2)         "
   ]
  },
  {
   "cell_type": "code",
   "execution_count": null,
   "metadata": {},
   "outputs": [],
   "source": [
    "data_2012 = mort_data_by_country.loc[(mort_data_by_country[\"Year\"]==\"2012\")]\n",
    "data_2012 = data_2012.rename(columns= {\"Adult Mortality Rate, Both Sexes\": \"2012 Adult Mort. Rate, Both Sexes\"})\n",
    "round(data_2012.describe(), 2)         "
   ]
  },
  {
   "cell_type": "code",
   "execution_count": null,
   "metadata": {},
   "outputs": [],
   "source": [
    "data_2010 = mort_data_by_country.loc[(mort_data_by_country[\"Year\"]==\"2010\")]\n",
    "data_2010 = data_2010.rename(columns= {\"Adult Mortality Rate, Both Sexes\": \"2010 Adult Mort. Rate, Both Sexes\"})\n",
    "round(data_2010.describe(), 2)         "
   ]
  },
  {
   "cell_type": "code",
   "execution_count": null,
   "metadata": {},
   "outputs": [],
   "source": [
    "data_2008 = mort_data_by_country.loc[(mort_data_by_country[\"Year\"]==\"2008\")]\n",
    "data_2008 = data_2008.rename(columns= {\"Adult Mortality Rate, Both Sexes\": \"2008 Adult Mort. Rate, Both Sexes\"})\n",
    "round(data_2008.describe(), 2)         "
   ]
  },
  {
   "cell_type": "code",
   "execution_count": null,
   "metadata": {},
   "outputs": [],
   "source": [
    "data_2006 = mort_data_by_country.loc[(mort_data_by_country[\"Year\"]==\"2006\")]\n",
    "data_2006 = data_2006.rename(columns= {\"Adult Mortality Rate, Both Sexes\": \"2006 Adult Mort. Rate, Both Sexes\"})\n",
    "round(data_2006.describe(), 2)  "
   ]
  },
  {
   "cell_type": "code",
   "execution_count": null,
   "metadata": {},
   "outputs": [],
   "source": [
    "data_2004 = mort_data_by_country.loc[(mort_data_by_country[\"Year\"]==\"2004\")]\n",
    "data_2004 = data_2004.rename(columns= {\"Adult Mortality Rate, Both Sexes\": \"2004 Adult Mort. Rate, Both Sexes\"})\n",
    "round(data_2004.describe(), 2)  "
   ]
  },
  {
   "cell_type": "code",
   "execution_count": null,
   "metadata": {},
   "outputs": [],
   "source": [
    "data_2002 = mort_data_by_country.loc[(mort_data_by_country[\"Year\"]==\"2002\")]\n",
    "data_2002 = data_2002.rename(columns= {\"Adult Mortality Rate, Both Sexes\": \"2002 Adult Mort. Rate, Both Sexes\"})\n",
    "round(data_2002.describe(), 2)  "
   ]
  },
  {
   "cell_type": "code",
   "execution_count": null,
   "metadata": {},
   "outputs": [],
   "source": [
    "data_2000 = mort_data_by_country.loc[(mort_data_by_country[\"Year\"]==\"2000\")]\n",
    "data_2000 = data_2000.rename(columns= {\"Adult Mortality Rate, Both Sexes\": \"2000 Adult Mort. Rate, Both Sexes\"})\n",
    "round(data_2000.describe(), 2)  "
   ]
  },
  {
   "cell_type": "code",
   "execution_count": null,
   "metadata": {},
   "outputs": [],
   "source": [
    "#data_2000_low = data_2000[\"2000 Adult Mort. Rate, Both Sexes\"].min()\n",
    "#data_2000_low\n",
    "#data_2000_hi = data_2000[\"2000 Adult Mort. Rate, Both Sexes\"].max()\n",
    "#data_2000_hi\n",
    "#Angela's code ends"
   ]
  },
  {
   "cell_type": "code",
   "execution_count": null,
   "metadata": {},
   "outputs": [],
   "source": []
  },
  {
   "cell_type": "code",
   "execution_count": null,
   "metadata": {},
   "outputs": [],
   "source": [
    "#Nabeel's code starts\n",
    "# my code starts here\n",
    "print('my code starts here')"
   ]
  },
  {
   "cell_type": "code",
   "execution_count": null,
   "metadata": {},
   "outputs": [],
   "source": [
    "#Nabeel's code ends\n",
    "# my code ends here\n",
    "print('my code ends here')"
   ]
  },
  {
   "cell_type": "code",
   "execution_count": null,
   "metadata": {},
   "outputs": [],
   "source": [
    "#Katie's code starts"
   ]
  },
  {
   "cell_type": "code",
   "execution_count": null,
   "metadata": {},
   "outputs": [],
   "source": [
    "#Katie's code ends"
   ]
  }
 ],
 "metadata": {
  "kernelspec": {
   "display_name": "Python 3",
   "language": "python",
   "name": "python3"
  },
  "language_info": {
   "codemirror_mode": {
    "name": "ipython",
    "version": 3
   },
   "file_extension": ".py",
   "mimetype": "text/x-python",
   "name": "python",
   "nbconvert_exporter": "python",
   "pygments_lexer": "ipython3",
   "version": "3.7.3"
  }
 },
 "nbformat": 4,
 "nbformat_minor": 4
}
